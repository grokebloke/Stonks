{
 "cells": [
  {
   "cell_type": "code",
   "execution_count": null,
   "metadata": {},
   "outputs": [],
   "source": [
    "import numpy as np\n",
    "import pandas as pd\n",
    "import datetime as datetime\n",
    "from pandas_datareader import data as pdr\n",
    "import matplotlib.pyplot as plt\n",
    "\n",
    "np.random.seed(1)\n",
    "\n",
    "# Tech indicator\n",
    "# Commodity Channel Index\n",
    "def CCI(data, ndays):\n",
    "    TP = (data['High'] + data['Low'] + data['Close']) / 3\n",
    "    CCI = pd.Series((TP - pd.rolling_mean(TP, ndays)) / (0.015 * pd.rolling_std(TP, ndays)),\n",
    "                    name = 'CCI')\n",
    "    data = data.join(CCI)\n",
    "    return data\n",
    "def RSI(data, ndays):\n",
    "    delta = data['Close'].diff()\n",
    "    dUp, dDown = delta.copy(), delta.copy()\n",
    "    dUp[dUp < 0] = 0\n",
    "    dDown[dDown > 0] = 0\n",
    "    RolUp = pd.rolling_mean(dUp, ndays)\n",
    "    RolDown = pd.rolling_mean(dDown, ndays).abs()\n",
    "    RS = RolUp / RolDown\n",
    "    RSI = pd.Series((100.0 - (100.0 / (1.0 + RS))),\n",
    "                    name = 'RSI')\n",
    "    data = data.join(RSI)\n",
    "    return data\n",
    "# Ease of Movement\n",
    "def EVM(data, ndays):\n",
    "    dm = ((data['High'] + data['Low'])/2) - ((data['High'].shift(1) + data['Low'].shift(1))/2)\n",
    "    br = (data['Volume'] / 100000000) / ((data['High'] - data['Low']))\n",
    "    EVM = dm / br\n",
    "    EVM_MA = pd.Series(pd.rolling_mean(EVM, ndays), name = 'EVM')\n",
    "    data = data.join(EVM_MA)\n",
    "    return data\n",
    "# Force Index\n",
    "def ForceIndex(data, ndays):\n",
    "    FI = pd.Series(data['Close'].diff(ndays) * data['Volume'], name = 'ForceIndex')\n",
    "    data = data.join(FI)\n",
    "    return data\n",
    "\n",
    "def main():\n",
    "\n",
    "    # Merge tech indicator\n",
    "    top_20 = ['FB','AAPL','GOOG','INTU','ALGN','AMZN','AAL','MSFT','AMAT','FOX',\n",
    "          'SBUX','WDC','NFLX','COST','ADBE','EBAY','WDAY','LRCX','BIDU','PYPL']\n",
    "    n1 = 20\n",
    "    n2 = 14\n",
    "    n3 = 14\n",
    "    n4 = 1\n",
    "    to_merge = pd.DataFrame({'Date' : [],'CCI': [],'RSI': [],'EVM': [],'Ticker' : [],'ForceIndex':[]})\n",
    "    for ticker in top_20:\n",
    "        print('Processing ',ticker)\n",
    "        data = pdr.get_data_yahoo(ticker, start=\"2013-01-01\", end=\"2017-12-31\")\n",
    "        data = pd.DataFrame(data)\n",
    "        data.reset_index(inplace=True)\n",
    "        Ticker_CCI = CCI(data, n1)\n",
    "        Ticker_RSI = RSI(Ticker_CCI, n2)\n",
    "        Ticker_EVM = EVM(Ticker_RSI, n3)\n",
    "        Ticker_ForceIndex = ForceIndex(Ticker_EVM,n4)\n",
    "        out = Ticker_ForceIndex[['Date','CCI','RSI','EVM','ForceIndex']]\n",
    "        out['Ticker']=ticker\n",
    "        to_merge = pd.concat([to_merge,out])\n",
    "    to_merge.to_csv('techindicators_20.csv', encoding='utf-8', index=True)"
   ]
  }
 ],
 "metadata": {
  "kernelspec": {
   "display_name": "Python 3.8.10 64-bit",
   "language": "python",
   "name": "python3"
  },
  "language_info": {
   "codemirror_mode": {
    "name": "ipython",
    "version": 3
   },
   "file_extension": ".py",
   "mimetype": "text/x-python",
   "name": "python",
   "nbconvert_exporter": "python",
   "pygments_lexer": "ipython3",
   "version": "3.8.10"
  },
  "orig_nbformat": 4,
  "vscode": {
   "interpreter": {
    "hash": "5b3ded1ccb95c1d9bd405e7b823d9e85424cde40fbb5985eb47e999ef50e15b4"
   }
  }
 },
 "nbformat": 4,
 "nbformat_minor": 2
}
