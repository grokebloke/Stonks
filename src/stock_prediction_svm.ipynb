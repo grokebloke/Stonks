{
 "cells": [
  {
   "cell_type": "code",
   "execution_count": 15,
   "metadata": {},
   "outputs": [],
   "source": [
    "import yfinance as yf\n",
    "import pandas as pd\n",
    "import numpy as np"
   ]
  },
  {
   "cell_type": "code",
   "execution_count": 14,
   "metadata": {},
   "outputs": [],
   "source": [
    "from sklearn.svm import SVC\n",
    "from sklearn.metrics import accuracy_score"
   ]
  },
  {
   "cell_type": "code",
   "execution_count": 89,
   "metadata": {},
   "outputs": [
    {
     "name": "stdout",
     "output_type": "stream",
     "text": [
      "[*********************100%***********************]  1 of 1 completed\n"
     ]
    },
    {
     "data": {
      "text/html": [
       "<div>\n",
       "<style scoped>\n",
       "    .dataframe tbody tr th:only-of-type {\n",
       "        vertical-align: middle;\n",
       "    }\n",
       "\n",
       "    .dataframe tbody tr th {\n",
       "        vertical-align: top;\n",
       "    }\n",
       "\n",
       "    .dataframe thead th {\n",
       "        text-align: right;\n",
       "    }\n",
       "</style>\n",
       "<table border=\"1\" class=\"dataframe\">\n",
       "  <thead>\n",
       "    <tr style=\"text-align: right;\">\n",
       "      <th></th>\n",
       "      <th>Open</th>\n",
       "      <th>High</th>\n",
       "      <th>Low</th>\n",
       "      <th>Close</th>\n",
       "      <th>Adj Close</th>\n",
       "      <th>Volume</th>\n",
       "    </tr>\n",
       "    <tr>\n",
       "      <th>Date</th>\n",
       "      <th></th>\n",
       "      <th></th>\n",
       "      <th></th>\n",
       "      <th></th>\n",
       "      <th></th>\n",
       "      <th></th>\n",
       "    </tr>\n",
       "  </thead>\n",
       "  <tbody>\n",
       "    <tr>\n",
       "      <th>2021-11-01</th>\n",
       "      <td>49.400002</td>\n",
       "      <td>49.599998</td>\n",
       "      <td>49.000000</td>\n",
       "      <td>49.549999</td>\n",
       "      <td>47.329285</td>\n",
       "      <td>28013700</td>\n",
       "    </tr>\n",
       "    <tr>\n",
       "      <th>2021-11-02</th>\n",
       "      <td>49.610001</td>\n",
       "      <td>49.900002</td>\n",
       "      <td>49.230000</td>\n",
       "      <td>49.860001</td>\n",
       "      <td>47.625397</td>\n",
       "      <td>27193300</td>\n",
       "    </tr>\n",
       "    <tr>\n",
       "      <th>2021-11-03</th>\n",
       "      <td>49.930000</td>\n",
       "      <td>50.450001</td>\n",
       "      <td>49.709999</td>\n",
       "      <td>50.389999</td>\n",
       "      <td>48.131638</td>\n",
       "      <td>23962100</td>\n",
       "    </tr>\n",
       "    <tr>\n",
       "      <th>2021-11-04</th>\n",
       "      <td>50.240002</td>\n",
       "      <td>50.349998</td>\n",
       "      <td>49.730000</td>\n",
       "      <td>50.310001</td>\n",
       "      <td>48.389412</td>\n",
       "      <td>24806000</td>\n",
       "    </tr>\n",
       "    <tr>\n",
       "      <th>2021-11-05</th>\n",
       "      <td>50.549999</td>\n",
       "      <td>51.580002</td>\n",
       "      <td>50.540001</td>\n",
       "      <td>50.919998</td>\n",
       "      <td>48.976120</td>\n",
       "      <td>36816200</td>\n",
       "    </tr>\n",
       "  </tbody>\n",
       "</table>\n",
       "</div>"
      ],
      "text/plain": [
       "                 Open       High        Low      Close  Adj Close    Volume\n",
       "Date                                                                       \n",
       "2021-11-01  49.400002  49.599998  49.000000  49.549999  47.329285  28013700\n",
       "2021-11-02  49.610001  49.900002  49.230000  49.860001  47.625397  27193300\n",
       "2021-11-03  49.930000  50.450001  49.709999  50.389999  48.131638  23962100\n",
       "2021-11-04  50.240002  50.349998  49.730000  50.310001  48.389412  24806000\n",
       "2021-11-05  50.549999  51.580002  50.540001  50.919998  48.976120  36816200"
      ]
     },
     "execution_count": 89,
     "metadata": {},
     "output_type": "execute_result"
    }
   ],
   "source": [
    "amazon = yf.download('INTC', start='2021-11-01', end='2022-11-01')\n",
    "amazon.head()"
   ]
  },
  {
   "cell_type": "code",
   "execution_count": 90,
   "metadata": {},
   "outputs": [
    {
     "data": {
      "text/html": [
       "<div>\n",
       "<style scoped>\n",
       "    .dataframe tbody tr th:only-of-type {\n",
       "        vertical-align: middle;\n",
       "    }\n",
       "\n",
       "    .dataframe tbody tr th {\n",
       "        vertical-align: top;\n",
       "    }\n",
       "\n",
       "    .dataframe thead th {\n",
       "        text-align: right;\n",
       "    }\n",
       "</style>\n",
       "<table border=\"1\" class=\"dataframe\">\n",
       "  <thead>\n",
       "    <tr style=\"text-align: right;\">\n",
       "      <th></th>\n",
       "      <th>Open-Close</th>\n",
       "      <th>High-Low</th>\n",
       "    </tr>\n",
       "    <tr>\n",
       "      <th>Date</th>\n",
       "      <th></th>\n",
       "      <th></th>\n",
       "    </tr>\n",
       "  </thead>\n",
       "  <tbody>\n",
       "    <tr>\n",
       "      <th>2021-11-01</th>\n",
       "      <td>-0.149998</td>\n",
       "      <td>0.599998</td>\n",
       "    </tr>\n",
       "    <tr>\n",
       "      <th>2021-11-02</th>\n",
       "      <td>-0.250000</td>\n",
       "      <td>0.670002</td>\n",
       "    </tr>\n",
       "    <tr>\n",
       "      <th>2021-11-03</th>\n",
       "      <td>-0.459999</td>\n",
       "      <td>0.740002</td>\n",
       "    </tr>\n",
       "    <tr>\n",
       "      <th>2021-11-04</th>\n",
       "      <td>-0.070000</td>\n",
       "      <td>0.619999</td>\n",
       "    </tr>\n",
       "    <tr>\n",
       "      <th>2021-11-05</th>\n",
       "      <td>-0.369999</td>\n",
       "      <td>1.040001</td>\n",
       "    </tr>\n",
       "  </tbody>\n",
       "</table>\n",
       "</div>"
      ],
      "text/plain": [
       "            Open-Close  High-Low\n",
       "Date                            \n",
       "2021-11-01   -0.149998  0.599998\n",
       "2021-11-02   -0.250000  0.670002\n",
       "2021-11-03   -0.459999  0.740002\n",
       "2021-11-04   -0.070000  0.619999\n",
       "2021-11-05   -0.369999  1.040001"
      ]
     },
     "execution_count": 90,
     "metadata": {},
     "output_type": "execute_result"
    }
   ],
   "source": [
    "amazon ['Open-Close'] = amazon .Open - amazon .Close\n",
    "amazon ['High-Low'] = amazon .High - amazon .Low\n",
    "X = amazon [['Open-Close', 'High-Low']]\n",
    "X.head()"
   ]
  },
  {
   "cell_type": "code",
   "execution_count": 91,
   "metadata": {},
   "outputs": [
    {
     "data": {
      "text/plain": [
       "array([ 1,  1, -1,  1,  1, -1, -1, -1, -1,  1,  1, -1, -1, -1,  1, -1,  1,\n",
       "       -1,  1, -1, -1,  1, -1,  1,  1, -1, -1,  1, -1, -1,  1,  1, -1, -1,\n",
       "        1,  1,  1,  1, -1,  1, -1, -1,  1, -1,  1,  1, -1,  1,  1, -1, -1,\n",
       "        1, -1, -1, -1, -1, -1, -1,  1, -1, -1,  1,  1,  1, -1, -1,  1,  1,\n",
       "        1, -1, -1, -1,  1, -1, -1, -1, -1, -1,  1,  1, -1, -1,  1, -1,  1,\n",
       "       -1, -1,  1, -1, -1, -1,  1,  1,  1,  1, -1,  1, -1,  1,  1, -1,  1,\n",
       "       -1, -1, -1,  1, -1, -1,  1, -1, -1, -1,  1, -1,  1,  1,  1, -1, -1,\n",
       "        1, -1, -1,  1, -1,  1,  1,  1, -1, -1, -1,  1, -1,  1,  1, -1,  1,\n",
       "       -1, -1, -1,  1, -1,  1,  1,  1, -1, -1,  1, -1, -1,  1, -1, -1, -1,\n",
       "       -1,  1,  1, -1, -1,  1, -1,  1,  1,  1, -1, -1,  1, -1,  1,  1,  1,\n",
       "       -1, -1,  1, -1,  1,  1,  1,  1,  1,  1, -1, -1, -1,  1, -1, -1,  1,\n",
       "       -1,  1, -1, -1, -1, -1,  1,  1,  1,  1, -1, -1,  1, -1, -1,  1, -1,\n",
       "        1, -1, -1, -1, -1, -1, -1, -1,  1,  1,  1,  1, -1, -1, -1,  1,  1,\n",
       "       -1, -1, -1, -1, -1, -1,  1, -1, -1,  1,  1, -1, -1, -1, -1, -1,  1,\n",
       "        1, -1,  1, -1,  1,  1,  1,  1,  1, -1, -1,  1, -1, -1])"
      ]
     },
     "execution_count": 91,
     "metadata": {},
     "output_type": "execute_result"
    }
   ],
   "source": [
    "y = np.where(amazon ['Close'].shift(-1) > amazon ['Close'], 1, -1)\n",
    "y"
   ]
  },
  {
   "cell_type": "code",
   "execution_count": 92,
   "metadata": {},
   "outputs": [],
   "source": [
    "split_percentage = 0.8\n",
    "split = int(split_percentage * len(amazon ))\n",
    "X_train = X[:split]\n",
    "y_train = y[:split]\n",
    "X_test = X[split:]\n",
    "y_test = y[split:]"
   ]
  },
  {
   "cell_type": "code",
   "execution_count": 93,
   "metadata": {},
   "outputs": [],
   "source": [
    "classifier = SVC().fit(X_train, y_train)"
   ]
  },
  {
   "cell_type": "code",
   "execution_count": 94,
   "metadata": {},
   "outputs": [
    {
     "data": {
      "text/html": [
       "<div>\n",
       "<style scoped>\n",
       "    .dataframe tbody tr th:only-of-type {\n",
       "        vertical-align: middle;\n",
       "    }\n",
       "\n",
       "    .dataframe tbody tr th {\n",
       "        vertical-align: top;\n",
       "    }\n",
       "\n",
       "    .dataframe thead th {\n",
       "        text-align: right;\n",
       "    }\n",
       "</style>\n",
       "<table border=\"1\" class=\"dataframe\">\n",
       "  <thead>\n",
       "    <tr style=\"text-align: right;\">\n",
       "      <th></th>\n",
       "      <th>Open</th>\n",
       "      <th>High</th>\n",
       "      <th>Low</th>\n",
       "      <th>Close</th>\n",
       "      <th>Adj Close</th>\n",
       "      <th>Volume</th>\n",
       "      <th>Open-Close</th>\n",
       "      <th>High-Low</th>\n",
       "      <th>Predicted_Signal</th>\n",
       "      <th>amazon_Returns</th>\n",
       "      <th>Strategy_Returns</th>\n",
       "      <th>Cumulative_Returns</th>\n",
       "      <th>Cumulative_Strategy_Returns</th>\n",
       "    </tr>\n",
       "    <tr>\n",
       "      <th>Date</th>\n",
       "      <th></th>\n",
       "      <th></th>\n",
       "      <th></th>\n",
       "      <th></th>\n",
       "      <th></th>\n",
       "      <th></th>\n",
       "      <th></th>\n",
       "      <th></th>\n",
       "      <th></th>\n",
       "      <th></th>\n",
       "      <th></th>\n",
       "      <th></th>\n",
       "      <th></th>\n",
       "    </tr>\n",
       "  </thead>\n",
       "  <tbody>\n",
       "    <tr>\n",
       "      <th>2021-11-01</th>\n",
       "      <td>49.400002</td>\n",
       "      <td>49.599998</td>\n",
       "      <td>49.000000</td>\n",
       "      <td>49.549999</td>\n",
       "      <td>47.329285</td>\n",
       "      <td>28013700</td>\n",
       "      <td>-0.149998</td>\n",
       "      <td>0.599998</td>\n",
       "      <td>-1</td>\n",
       "      <td>NaN</td>\n",
       "      <td>NaN</td>\n",
       "      <td>NaN</td>\n",
       "      <td>NaN</td>\n",
       "    </tr>\n",
       "    <tr>\n",
       "      <th>2021-11-02</th>\n",
       "      <td>49.610001</td>\n",
       "      <td>49.900002</td>\n",
       "      <td>49.230000</td>\n",
       "      <td>49.860001</td>\n",
       "      <td>47.625397</td>\n",
       "      <td>27193300</td>\n",
       "      <td>-0.250000</td>\n",
       "      <td>0.670002</td>\n",
       "      <td>-1</td>\n",
       "      <td>0.006256</td>\n",
       "      <td>-0.006256</td>\n",
       "      <td>0.006256</td>\n",
       "      <td>-0.006256</td>\n",
       "    </tr>\n",
       "    <tr>\n",
       "      <th>2021-11-03</th>\n",
       "      <td>49.930000</td>\n",
       "      <td>50.450001</td>\n",
       "      <td>49.709999</td>\n",
       "      <td>50.389999</td>\n",
       "      <td>48.131638</td>\n",
       "      <td>23962100</td>\n",
       "      <td>-0.459999</td>\n",
       "      <td>0.740002</td>\n",
       "      <td>-1</td>\n",
       "      <td>0.010630</td>\n",
       "      <td>-0.010630</td>\n",
       "      <td>0.016886</td>\n",
       "      <td>-0.016886</td>\n",
       "    </tr>\n",
       "    <tr>\n",
       "      <th>2021-11-04</th>\n",
       "      <td>50.240002</td>\n",
       "      <td>50.349998</td>\n",
       "      <td>49.730000</td>\n",
       "      <td>50.310001</td>\n",
       "      <td>48.389412</td>\n",
       "      <td>24806000</td>\n",
       "      <td>-0.070000</td>\n",
       "      <td>0.619999</td>\n",
       "      <td>-1</td>\n",
       "      <td>-0.001588</td>\n",
       "      <td>0.001588</td>\n",
       "      <td>0.015298</td>\n",
       "      <td>-0.015298</td>\n",
       "    </tr>\n",
       "    <tr>\n",
       "      <th>2021-11-05</th>\n",
       "      <td>50.549999</td>\n",
       "      <td>51.580002</td>\n",
       "      <td>50.540001</td>\n",
       "      <td>50.919998</td>\n",
       "      <td>48.976120</td>\n",
       "      <td>36816200</td>\n",
       "      <td>-0.369999</td>\n",
       "      <td>1.040001</td>\n",
       "      <td>-1</td>\n",
       "      <td>0.012125</td>\n",
       "      <td>-0.012125</td>\n",
       "      <td>0.027423</td>\n",
       "      <td>-0.027423</td>\n",
       "    </tr>\n",
       "  </tbody>\n",
       "</table>\n",
       "</div>"
      ],
      "text/plain": [
       "                 Open       High        Low      Close  Adj Close    Volume  \\\n",
       "Date                                                                          \n",
       "2021-11-01  49.400002  49.599998  49.000000  49.549999  47.329285  28013700   \n",
       "2021-11-02  49.610001  49.900002  49.230000  49.860001  47.625397  27193300   \n",
       "2021-11-03  49.930000  50.450001  49.709999  50.389999  48.131638  23962100   \n",
       "2021-11-04  50.240002  50.349998  49.730000  50.310001  48.389412  24806000   \n",
       "2021-11-05  50.549999  51.580002  50.540001  50.919998  48.976120  36816200   \n",
       "\n",
       "            Open-Close  High-Low  Predicted_Signal  amazon_Returns  \\\n",
       "Date                                                                 \n",
       "2021-11-01   -0.149998  0.599998                -1             NaN   \n",
       "2021-11-02   -0.250000  0.670002                -1        0.006256   \n",
       "2021-11-03   -0.459999  0.740002                -1        0.010630   \n",
       "2021-11-04   -0.070000  0.619999                -1       -0.001588   \n",
       "2021-11-05   -0.369999  1.040001                -1        0.012125   \n",
       "\n",
       "            Strategy_Returns  Cumulative_Returns  Cumulative_Strategy_Returns  \n",
       "Date                                                                           \n",
       "2021-11-01               NaN                 NaN                          NaN  \n",
       "2021-11-02         -0.006256            0.006256                    -0.006256  \n",
       "2021-11-03         -0.010630            0.016886                    -0.016886  \n",
       "2021-11-04          0.001588            0.015298                    -0.015298  \n",
       "2021-11-05         -0.012125            0.027423                    -0.027423  "
      ]
     },
     "execution_count": 94,
     "metadata": {},
     "output_type": "execute_result"
    }
   ],
   "source": [
    "amazon ['Predicted_Signal'] = classifier.predict(X)\n",
    "amazon ['amazon_Returns'] = amazon.Close.pct_change()\n",
    "amazon ['Strategy_Returns'] = amazon.amazon_Returns * amazon .Predicted_Signal.shift(1)\n",
    "amazon ['Cumulative_Returns'] = amazon ['amazon_Returns'].cumsum()\n",
    "amazon ['Cumulative_Strategy_Returns'] = amazon ['Strategy_Returns'].cumsum()\n",
    "amazon.head()"
   ]
  },
  {
   "cell_type": "code",
   "execution_count": 95,
   "metadata": {},
   "outputs": [
    {
     "data": {
      "image/png": "[encoded data removed]",
      "text/plain": [
       "<Figure size 1000x500 with 1 Axes>"
      ]
     },
     "metadata": {},
     "output_type": "display_data"
    }
   ],
   "source": [
    "import matplotlib.pyplot as plt\n",
    "plt.figure(figsize=(10,5))\n",
    "plt.plot(amazon ['Cumulative_Returns'], color='r', label = 'amazon  Returns')\n",
    "plt.plot(-amazon ['Cumulative_Strategy_Returns'], color='g', label = 'Strategy Returns')\n",
    "plt.legend()\n",
    "plt.show()"
   ]
  },
  {
   "cell_type": "code",
   "execution_count": 84,
   "metadata": {},
   "outputs": [
    {
     "name": "stdout",
     "output_type": "stream",
     "text": [
      "Accuracy of our SVM model is:  50.98039215686274 %\n"
     ]
    }
   ],
   "source": [
    "# calculate accuracy\n",
    "accuracy_score(y_test, amazon ['Predicted_Signal'][split:])\n",
    "print(\"Accuracy of our SVM model is: \", accuracy_score(y_test, amazon ['Predicted_Signal'][split:])*100, \"%\")"
   ]
  },
  {
   "cell_type": "code",
   "execution_count": null,
   "metadata": {},
   "outputs": [],
   "source": []
  }
 ],
 "metadata": {
  "kernelspec": {
   "display_name": "Python 3.8.10 64-bit",
   "language": "python",
   "name": "python3"
  },
  "language_info": {
   "codemirror_mode": {
    "name": "ipython",
    "version": 3
   },
   "file_extension": ".py",
   "mimetype": "text/x-python",
   "name": "python",
   "nbconvert_exporter": "python",
   "pygments_lexer": "ipython3",
   "version": "3.8.10"
  },
  "orig_nbformat": 4,
  "vscode": {
   "interpreter": {
    "hash": "5b3ded1ccb95c1d9bd405e7b823d9e85424cde40fbb5985eb47e999ef50e15b4"
   }
  }
 },
 "nbformat": 4,
 "nbformat_minor": 2
}
