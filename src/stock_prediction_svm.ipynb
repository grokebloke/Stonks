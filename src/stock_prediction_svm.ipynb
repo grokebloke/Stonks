{
 "cells": [
  {
   "cell_type": "code",
   "execution_count": 1,
   "metadata": {},
   "outputs": [],
   "source": [
    "import yfinance as yf\n",
    "import pandas as pd\n",
    "import numpy as np"
   ]
  },
  {
   "cell_type": "code",
   "execution_count": 2,
   "metadata": {},
   "outputs": [],
   "source": [
    "from sklearn.svm import SVC\n",
    "from sklearn.metrics import accuracy_score\n",
    "from sklearn.metrics import mean_absolute_error"
   ]
  },
  {
   "cell_type": "code",
   "execution_count": 3,
   "metadata": {},
   "outputs": [
    {
     "name": "stdout",
     "output_type": "stream",
     "text": [
      "[*********************100%***********************]  1 of 1 completed\n"
     ]
    },
    {
     "data": {
      "text/html": [
       "<div>\n",
       "<style scoped>\n",
       "    .dataframe tbody tr th:only-of-type {\n",
       "        vertical-align: middle;\n",
       "    }\n",
       "\n",
       "    .dataframe tbody tr th {\n",
       "        vertical-align: top;\n",
       "    }\n",
       "\n",
       "    .dataframe thead th {\n",
       "        text-align: right;\n",
       "    }\n",
       "</style>\n",
       "<table border=\"1\" class=\"dataframe\">\n",
       "  <thead>\n",
       "    <tr style=\"text-align: right;\">\n",
       "      <th></th>\n",
       "      <th>Open</th>\n",
       "      <th>High</th>\n",
       "      <th>Low</th>\n",
       "      <th>Close</th>\n",
       "      <th>Adj Close</th>\n",
       "      <th>Volume</th>\n",
       "    </tr>\n",
       "    <tr>\n",
       "      <th>Date</th>\n",
       "      <th></th>\n",
       "      <th></th>\n",
       "      <th></th>\n",
       "      <th></th>\n",
       "      <th></th>\n",
       "      <th></th>\n",
       "    </tr>\n",
       "  </thead>\n",
       "  <tbody>\n",
       "    <tr>\n",
       "      <th>2021-11-01</th>\n",
       "      <td>326.040009</td>\n",
       "      <td>333.450012</td>\n",
       "      <td>326.000000</td>\n",
       "      <td>329.980011</td>\n",
       "      <td>329.980011</td>\n",
       "      <td>31518900</td>\n",
       "    </tr>\n",
       "    <tr>\n",
       "      <th>2021-11-02</th>\n",
       "      <td>331.380005</td>\n",
       "      <td>334.790009</td>\n",
       "      <td>323.799988</td>\n",
       "      <td>328.079987</td>\n",
       "      <td>328.079987</td>\n",
       "      <td>28353000</td>\n",
       "    </tr>\n",
       "    <tr>\n",
       "      <th>2021-11-03</th>\n",
       "      <td>327.489990</td>\n",
       "      <td>332.149994</td>\n",
       "      <td>323.200012</td>\n",
       "      <td>331.619995</td>\n",
       "      <td>331.619995</td>\n",
       "      <td>20786500</td>\n",
       "    </tr>\n",
       "    <tr>\n",
       "      <th>2021-11-04</th>\n",
       "      <td>334.010010</td>\n",
       "      <td>337.269989</td>\n",
       "      <td>332.649994</td>\n",
       "      <td>335.850006</td>\n",
       "      <td>335.850006</td>\n",
       "      <td>22495300</td>\n",
       "    </tr>\n",
       "    <tr>\n",
       "      <th>2021-11-05</th>\n",
       "      <td>340.309998</td>\n",
       "      <td>346.790009</td>\n",
       "      <td>339.640015</td>\n",
       "      <td>341.130005</td>\n",
       "      <td>341.130005</td>\n",
       "      <td>26872800</td>\n",
       "    </tr>\n",
       "  </tbody>\n",
       "</table>\n",
       "</div>"
      ],
      "text/plain": [
       "                  Open        High         Low       Close   Adj Close  \\\n",
       "Date                                                                     \n",
       "2021-11-01  326.040009  333.450012  326.000000  329.980011  329.980011   \n",
       "2021-11-02  331.380005  334.790009  323.799988  328.079987  328.079987   \n",
       "2021-11-03  327.489990  332.149994  323.200012  331.619995  331.619995   \n",
       "2021-11-04  334.010010  337.269989  332.649994  335.850006  335.850006   \n",
       "2021-11-05  340.309998  346.790009  339.640015  341.130005  341.130005   \n",
       "\n",
       "              Volume  \n",
       "Date                  \n",
       "2021-11-01  31518900  \n",
       "2021-11-02  28353000  \n",
       "2021-11-03  20786500  \n",
       "2021-11-04  22495300  \n",
       "2021-11-05  26872800  "
      ]
     },
     "execution_count": 3,
     "metadata": {},
     "output_type": "execute_result"
    }
   ],
   "source": [
    "META = yf.download('META', start='2021-11-01', end='2022-11-01')\n",
    "META.head()"
   ]
  },
  {
   "cell_type": "code",
   "execution_count": 4,
   "metadata": {},
   "outputs": [
    {
     "data": {
      "text/html": [
       "<div>\n",
       "<style scoped>\n",
       "    .dataframe tbody tr th:only-of-type {\n",
       "        vertical-align: middle;\n",
       "    }\n",
       "\n",
       "    .dataframe tbody tr th {\n",
       "        vertical-align: top;\n",
       "    }\n",
       "\n",
       "    .dataframe thead th {\n",
       "        text-align: right;\n",
       "    }\n",
       "</style>\n",
       "<table border=\"1\" class=\"dataframe\">\n",
       "  <thead>\n",
       "    <tr style=\"text-align: right;\">\n",
       "      <th></th>\n",
       "      <th>Open-Close</th>\n",
       "      <th>High-Low</th>\n",
       "    </tr>\n",
       "    <tr>\n",
       "      <th>Date</th>\n",
       "      <th></th>\n",
       "      <th></th>\n",
       "    </tr>\n",
       "  </thead>\n",
       "  <tbody>\n",
       "    <tr>\n",
       "      <th>2021-11-01</th>\n",
       "      <td>-3.940002</td>\n",
       "      <td>7.450012</td>\n",
       "    </tr>\n",
       "    <tr>\n",
       "      <th>2021-11-02</th>\n",
       "      <td>3.300018</td>\n",
       "      <td>10.990021</td>\n",
       "    </tr>\n",
       "    <tr>\n",
       "      <th>2021-11-03</th>\n",
       "      <td>-4.130005</td>\n",
       "      <td>8.949982</td>\n",
       "    </tr>\n",
       "    <tr>\n",
       "      <th>2021-11-04</th>\n",
       "      <td>-1.839996</td>\n",
       "      <td>4.619995</td>\n",
       "    </tr>\n",
       "    <tr>\n",
       "      <th>2021-11-05</th>\n",
       "      <td>-0.820007</td>\n",
       "      <td>7.149994</td>\n",
       "    </tr>\n",
       "  </tbody>\n",
       "</table>\n",
       "</div>"
      ],
      "text/plain": [
       "            Open-Close   High-Low\n",
       "Date                             \n",
       "2021-11-01   -3.940002   7.450012\n",
       "2021-11-02    3.300018  10.990021\n",
       "2021-11-03   -4.130005   8.949982\n",
       "2021-11-04   -1.839996   4.619995\n",
       "2021-11-05   -0.820007   7.149994"
      ]
     },
     "execution_count": 4,
     "metadata": {},
     "output_type": "execute_result"
    }
   ],
   "source": [
    "META ['Open-Close'] = META .Open - META .Close\n",
    "META ['High-Low'] = META .High - META .Low\n",
    "X = META [['Open-Close', 'High-Low']]\n",
    "X.head()"
   ]
  },
  {
   "cell_type": "code",
   "execution_count": 5,
   "metadata": {},
   "outputs": [
    {
     "data": {
      "text/plain": [
       "array([-1,  1,  1,  1, -1, -1, -1,  1,  1,  1, -1, -1, -1,  1, -1, -1,  1,\n",
       "       -1,  1, -1, -1, -1, -1,  1,  1,  1, -1, -1,  1, -1,  1, -1, -1, -1,\n",
       "        1, -1,  1,  1,  1, -1,  1, -1,  1, -1, -1,  1, -1, -1,  1, -1, -1,\n",
       "        1, -1,  1, -1, -1,  1, -1, -1,  1,  1,  1,  1,  1, -1, -1, -1, -1,\n",
       "        1, -1, -1, -1,  1, -1, -1, -1, -1, -1,  1,  1,  1, -1,  1, -1, -1,\n",
       "       -1,  1,  1, -1, -1, -1,  1,  1,  1,  1, -1,  1, -1,  1,  1,  1,  1,\n",
       "       -1, -1,  1,  1, -1, -1, -1, -1, -1, -1,  1, -1,  1,  1, -1, -1, -1,\n",
       "        1, -1, -1,  1, -1,  1,  1,  1, -1, -1, -1,  1, -1,  1,  1,  1,  1,\n",
       "       -1, -1,  1,  1, -1,  1,  1,  1, -1, -1,  1, -1,  1,  1,  1, -1, -1,\n",
       "       -1, -1,  1, -1,  1, -1, -1,  1,  1, -1, -1,  1, -1, -1,  1,  1,  1,\n",
       "       -1, -1,  1,  1, -1,  1,  1,  1,  1,  1, -1, -1, -1,  1, -1, -1,  1,\n",
       "        1,  1,  1, -1,  1, -1,  1, -1,  1,  1, -1, -1, -1, -1, -1, -1,  1,\n",
       "        1, -1, -1, -1,  1,  1, -1, -1,  1,  1,  1, -1, -1, -1, -1, -1,  1,\n",
       "       -1, -1,  1, -1, -1, -1,  1, -1, -1,  1,  1, -1,  1, -1,  1, -1, -1,\n",
       "        1, -1,  1, -1,  1, -1, -1, -1,  1, -1, -1,  1, -1, -1])"
      ]
     },
     "execution_count": 5,
     "metadata": {},
     "output_type": "execute_result"
    }
   ],
   "source": [
    "y = np.where(META ['Close'].shift(-1) > META ['Close'], 1, -1)\n",
    "y"
   ]
  },
  {
   "cell_type": "code",
   "execution_count": 6,
   "metadata": {},
   "outputs": [],
   "source": [
    "split_percentage = 0.8\n",
    "split = int(split_percentage * len(META ))\n",
    "X_train = X[:split]\n",
    "y_train = y[:split]\n",
    "X_test = X[split:]\n",
    "y_test = y[split:]"
   ]
  },
  {
   "cell_type": "code",
   "execution_count": 7,
   "metadata": {},
   "outputs": [],
   "source": [
    "classifier = SVC().fit(X_train, y_train)"
   ]
  },
  {
   "cell_type": "code",
   "execution_count": 8,
   "metadata": {},
   "outputs": [
    {
     "data": {
      "text/html": [
       "<div>\n",
       "<style scoped>\n",
       "    .dataframe tbody tr th:only-of-type {\n",
       "        vertical-align: middle;\n",
       "    }\n",
       "\n",
       "    .dataframe tbody tr th {\n",
       "        vertical-align: top;\n",
       "    }\n",
       "\n",
       "    .dataframe thead th {\n",
       "        text-align: right;\n",
       "    }\n",
       "</style>\n",
       "<table border=\"1\" class=\"dataframe\">\n",
       "  <thead>\n",
       "    <tr style=\"text-align: right;\">\n",
       "      <th></th>\n",
       "      <th>Open</th>\n",
       "      <th>High</th>\n",
       "      <th>Low</th>\n",
       "      <th>Close</th>\n",
       "      <th>Adj Close</th>\n",
       "      <th>Volume</th>\n",
       "      <th>Open-Close</th>\n",
       "      <th>High-Low</th>\n",
       "      <th>Predicted_Signal</th>\n",
       "      <th>META_Returns</th>\n",
       "      <th>Strategy_Returns</th>\n",
       "      <th>Cumulative_Returns</th>\n",
       "      <th>Cumulative_Strategy_Returns</th>\n",
       "    </tr>\n",
       "    <tr>\n",
       "      <th>Date</th>\n",
       "      <th></th>\n",
       "      <th></th>\n",
       "      <th></th>\n",
       "      <th></th>\n",
       "      <th></th>\n",
       "      <th></th>\n",
       "      <th></th>\n",
       "      <th></th>\n",
       "      <th></th>\n",
       "      <th></th>\n",
       "      <th></th>\n",
       "      <th></th>\n",
       "      <th></th>\n",
       "    </tr>\n",
       "  </thead>\n",
       "  <tbody>\n",
       "    <tr>\n",
       "      <th>2021-11-01</th>\n",
       "      <td>326.040009</td>\n",
       "      <td>333.450012</td>\n",
       "      <td>326.000000</td>\n",
       "      <td>329.980011</td>\n",
       "      <td>329.980011</td>\n",
       "      <td>31518900</td>\n",
       "      <td>-3.940002</td>\n",
       "      <td>7.450012</td>\n",
       "      <td>-1</td>\n",
       "      <td>NaN</td>\n",
       "      <td>NaN</td>\n",
       "      <td>NaN</td>\n",
       "      <td>NaN</td>\n",
       "    </tr>\n",
       "    <tr>\n",
       "      <th>2021-11-02</th>\n",
       "      <td>331.380005</td>\n",
       "      <td>334.790009</td>\n",
       "      <td>323.799988</td>\n",
       "      <td>328.079987</td>\n",
       "      <td>328.079987</td>\n",
       "      <td>28353000</td>\n",
       "      <td>3.300018</td>\n",
       "      <td>10.990021</td>\n",
       "      <td>-1</td>\n",
       "      <td>-0.005758</td>\n",
       "      <td>0.005758</td>\n",
       "      <td>-0.005758</td>\n",
       "      <td>0.005758</td>\n",
       "    </tr>\n",
       "    <tr>\n",
       "      <th>2021-11-03</th>\n",
       "      <td>327.489990</td>\n",
       "      <td>332.149994</td>\n",
       "      <td>323.200012</td>\n",
       "      <td>331.619995</td>\n",
       "      <td>331.619995</td>\n",
       "      <td>20786500</td>\n",
       "      <td>-4.130005</td>\n",
       "      <td>8.949982</td>\n",
       "      <td>-1</td>\n",
       "      <td>0.010790</td>\n",
       "      <td>-0.010790</td>\n",
       "      <td>0.005032</td>\n",
       "      <td>-0.005032</td>\n",
       "    </tr>\n",
       "    <tr>\n",
       "      <th>2021-11-04</th>\n",
       "      <td>334.010010</td>\n",
       "      <td>337.269989</td>\n",
       "      <td>332.649994</td>\n",
       "      <td>335.850006</td>\n",
       "      <td>335.850006</td>\n",
       "      <td>22495300</td>\n",
       "      <td>-1.839996</td>\n",
       "      <td>4.619995</td>\n",
       "      <td>-1</td>\n",
       "      <td>0.012756</td>\n",
       "      <td>-0.012756</td>\n",
       "      <td>0.017788</td>\n",
       "      <td>-0.017788</td>\n",
       "    </tr>\n",
       "    <tr>\n",
       "      <th>2021-11-05</th>\n",
       "      <td>340.309998</td>\n",
       "      <td>346.790009</td>\n",
       "      <td>339.640015</td>\n",
       "      <td>341.130005</td>\n",
       "      <td>341.130005</td>\n",
       "      <td>26872800</td>\n",
       "      <td>-0.820007</td>\n",
       "      <td>7.149994</td>\n",
       "      <td>-1</td>\n",
       "      <td>0.015721</td>\n",
       "      <td>-0.015721</td>\n",
       "      <td>0.033509</td>\n",
       "      <td>-0.033509</td>\n",
       "    </tr>\n",
       "  </tbody>\n",
       "</table>\n",
       "</div>"
      ],
      "text/plain": [
       "                  Open        High         Low       Close   Adj Close  \\\n",
       "Date                                                                     \n",
       "2021-11-01  326.040009  333.450012  326.000000  329.980011  329.980011   \n",
       "2021-11-02  331.380005  334.790009  323.799988  328.079987  328.079987   \n",
       "2021-11-03  327.489990  332.149994  323.200012  331.619995  331.619995   \n",
       "2021-11-04  334.010010  337.269989  332.649994  335.850006  335.850006   \n",
       "2021-11-05  340.309998  346.790009  339.640015  341.130005  341.130005   \n",
       "\n",
       "              Volume  Open-Close   High-Low  Predicted_Signal  META_Returns  \\\n",
       "Date                                                                          \n",
       "2021-11-01  31518900   -3.940002   7.450012                -1           NaN   \n",
       "2021-11-02  28353000    3.300018  10.990021                -1     -0.005758   \n",
       "2021-11-03  20786500   -4.130005   8.949982                -1      0.010790   \n",
       "2021-11-04  22495300   -1.839996   4.619995                -1      0.012756   \n",
       "2021-11-05  26872800   -0.820007   7.149994                -1      0.015721   \n",
       "\n",
       "            Strategy_Returns  Cumulative_Returns  Cumulative_Strategy_Returns  \n",
       "Date                                                                           \n",
       "2021-11-01               NaN                 NaN                          NaN  \n",
       "2021-11-02          0.005758           -0.005758                     0.005758  \n",
       "2021-11-03         -0.010790            0.005032                    -0.005032  \n",
       "2021-11-04         -0.012756            0.017788                    -0.017788  \n",
       "2021-11-05         -0.015721            0.033509                    -0.033509  "
      ]
     },
     "execution_count": 8,
     "metadata": {},
     "output_type": "execute_result"
    }
   ],
   "source": [
    "META ['Predicted_Signal'] = classifier.predict(X)\n",
    "META ['META_Returns'] = META.Close.pct_change()\n",
    "META ['Strategy_Returns'] = META.META_Returns * META .Predicted_Signal.shift(1)\n",
    "META ['Cumulative_Returns'] = META ['META_Returns'].cumsum()\n",
    "META ['Cumulative_Strategy_Returns'] = META ['Strategy_Returns'].cumsum()\n",
    "META.head()"
   ]
  },
  {
   "cell_type": "code",
   "execution_count": 9,
   "metadata": {},
   "outputs": [
    {
     "data": {
      "image/png": "[encoded data removed]",
      "text/plain": [
       "<Figure size 1000x500 with 1 Axes>"
      ]
     },
     "metadata": {},
     "output_type": "display_data"
    }
   ],
   "source": [
    "import matplotlib.pyplot as plt\n",
    "plt.figure(figsize=(10,5))\n",
    "plt.plot(META ['Cumulative_Returns'], color='r', label = 'META  Returns')\n",
    "plt.plot(-META ['Cumulative_Strategy_Returns'], color='g', label = 'Strategy Returns')\n",
    "plt.legend()\n",
    "plt.show()"
   ]
  },
  {
   "cell_type": "code",
   "execution_count": 10,
   "metadata": {},
   "outputs": [
    {
     "name": "stdout",
     "output_type": "stream",
     "text": [
      "For SVM model:\n",
      "Accuracy:  62.745098039215684 %\n",
      "Mean Absolute Error:  0.7450980392156863\n"
     ]
    }
   ],
   "source": [
    "# calculate accuracy\n",
    "\n",
    "print(\"For SVM model:\")\n",
    "print(\"Accuracy: \", accuracy_score(y_test, META[\"Predicted_Signal\"][split:]) * 100, \"%\")\n",
    "print(\"Mean Absolute Error: \", mean_absolute_error(y_test, META[\"Predicted_Signal\"][split:]))"
   ]
  }
 ],
 "metadata": {
  "kernelspec": {
   "display_name": "Python 3.8.15 ('smai')",
   "language": "python",
   "name": "python3"
  },
  "language_info": {
   "codemirror_mode": {
    "name": "ipython",
    "version": 3
   },
   "file_extension": ".py",
   "mimetype": "text/x-python",
   "name": "python",
   "nbconvert_exporter": "python",
   "pygments_lexer": "ipython3",
   "version": "3.8.15"
  },
  "orig_nbformat": 4,
  "vscode": {
   "interpreter": {
    "hash": "9f7a2555dfbbdc8fdcf8f78a0b5fee4b51e3a31df98ad1b7c999f7834d71528f"
   }
  }
 },
 "nbformat": 4,
 "nbformat_minor": 2
}
